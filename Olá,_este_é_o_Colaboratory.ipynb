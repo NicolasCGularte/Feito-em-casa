class ValidaCpf:

    def cpfValido(self, number):

         # comprimento inválido ou dígitos repetidos
        if len(number) != 11 or re.search(r"(\d)(\1{10})", number): return False
        

        for cycle in range(2):

            limitIndex = 9 if cycle == 0 else 10
            baseWeight = limitIndex + 1
            temp = 0

            for index in range(0, limitIndex):
                temp += int(number[index]) * (baseWeight - index)

            temp %= 11
            digito = 0 if temp < 2 else 11 - temp

            if digito != int(number[limitIndex]):
                return False

        return True


# main

ValidaCpf = ValidaCpf()

while True:

    print()
    print("-"*41)
    print("Digite os digitos do CPF [digite X para sair]")
    print("-"*41)
    try:
      cpf = int(input("? "))  
      # if cpf.upper() == "X": break
    except ValueError:
      print("Oops! Isso não é um número válido....")
    finally:
      print("\nCPF é " + ("Valido!" if ValidaCpf.cpfValido(cpf) else " I N V Á L I D O  !!!"))     
    if cpf.upper() == "X": break  
